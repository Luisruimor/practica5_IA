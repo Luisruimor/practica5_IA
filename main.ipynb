{
 "cells": [
  {
   "cell_type": "code",
   "execution_count": 1,
   "metadata": {
    "ExecuteTime": {
     "end_time": "2023-05-08T10:07:11.397423Z",
     "start_time": "2023-05-08T10:07:08.630359Z"
    },
    "collapsed": true
   },
   "outputs": [],
   "source": [
    "# Importamos las librerias necesarias\n",
    "import pandas as pd\n",
    "import numpy as np\n",
    "from sklearn.experimental import enable_iterative_imputer\n",
    "from sklearn.impute import IterativeImputer\n",
    "from sklearn.linear_model import LinearRegression\n",
    "from sklearn.impute import SimpleImputer\n",
    "from matplotlib import pyplot as plt\n",
    "from sklearn.model_selection import train_test_split\n",
    "from sklearn.neighbors import KNeighborsClassifier\n",
    "from sklearn.preprocessing import MinMaxScaler\n"
   ]
  },
  {
   "cell_type": "markdown",
   "metadata": {
    "collapsed": false
   },
   "source": [
    "## Carga de datos\n",
    "En la práctica 4 ya realicé la limpieza de datos, por lo que en esta práctica cargaremos el dataset limpio. En la [práctica 4](https://github.com/Luisruimor/practica4_IA) hice dos posibles tratamientos de los valores nulos de la columna \"age\":\n",
    "\n",
    "1. Eliminar las filas con valores nulos\n",
    "2. Imputar los valores mediante el método MICE\n",
    "\n",
    "En esta práctica vamos a trabajar con el dataset en el que eliminé las columnas con valores nulos, ya que en el método MICE se utiliza la variable que queremos predecir como parte del método de imputación."
   ]
  },
  {
   "cell_type": "code",
   "execution_count": 2,
   "metadata": {
    "ExecuteTime": {
     "end_time": "2023-05-08T10:07:11.442303Z",
     "start_time": "2023-05-08T10:07:11.402412Z"
    },
    "collapsed": false
   },
   "outputs": [
    {
     "data": {
      "text/html": [
       "<div>\n",
       "<style scoped>\n",
       "    .dataframe tbody tr th:only-of-type {\n",
       "        vertical-align: middle;\n",
       "    }\n",
       "\n",
       "    .dataframe tbody tr th {\n",
       "        vertical-align: top;\n",
       "    }\n",
       "\n",
       "    .dataframe thead th {\n",
       "        text-align: right;\n",
       "    }\n",
       "</style>\n",
       "<table border=\"1\" class=\"dataframe\">\n",
       "  <thead>\n",
       "    <tr style=\"text-align: right;\">\n",
       "      <th></th>\n",
       "      <th>Name</th>\n",
       "      <th>Survived</th>\n",
       "      <th>Pclass</th>\n",
       "      <th>Sex</th>\n",
       "      <th>Age</th>\n",
       "      <th>SibSp</th>\n",
       "      <th>Parch</th>\n",
       "      <th>Fare</th>\n",
       "      <th>Embarked</th>\n",
       "    </tr>\n",
       "  </thead>\n",
       "  <tbody>\n",
       "    <tr>\n",
       "      <th>0</th>\n",
       "      <td>Braund, Mr. Owen Harris</td>\n",
       "      <td>0</td>\n",
       "      <td>3</td>\n",
       "      <td>0</td>\n",
       "      <td>22.0</td>\n",
       "      <td>1</td>\n",
       "      <td>0</td>\n",
       "      <td>7.2500</td>\n",
       "      <td>0</td>\n",
       "    </tr>\n",
       "    <tr>\n",
       "      <th>1</th>\n",
       "      <td>Cumings, Mrs. John Bradley (Florence Briggs Th...</td>\n",
       "      <td>1</td>\n",
       "      <td>1</td>\n",
       "      <td>1</td>\n",
       "      <td>38.0</td>\n",
       "      <td>1</td>\n",
       "      <td>0</td>\n",
       "      <td>71.2833</td>\n",
       "      <td>1</td>\n",
       "    </tr>\n",
       "    <tr>\n",
       "      <th>2</th>\n",
       "      <td>Heikkinen, Miss. Laina</td>\n",
       "      <td>1</td>\n",
       "      <td>3</td>\n",
       "      <td>1</td>\n",
       "      <td>26.0</td>\n",
       "      <td>0</td>\n",
       "      <td>0</td>\n",
       "      <td>7.9250</td>\n",
       "      <td>0</td>\n",
       "    </tr>\n",
       "    <tr>\n",
       "      <th>3</th>\n",
       "      <td>Futrelle, Mrs. Jacques Heath (Lily May Peel)</td>\n",
       "      <td>1</td>\n",
       "      <td>1</td>\n",
       "      <td>1</td>\n",
       "      <td>35.0</td>\n",
       "      <td>1</td>\n",
       "      <td>0</td>\n",
       "      <td>53.1000</td>\n",
       "      <td>0</td>\n",
       "    </tr>\n",
       "    <tr>\n",
       "      <th>4</th>\n",
       "      <td>Allen, Mr. William Henry</td>\n",
       "      <td>0</td>\n",
       "      <td>3</td>\n",
       "      <td>0</td>\n",
       "      <td>35.0</td>\n",
       "      <td>0</td>\n",
       "      <td>0</td>\n",
       "      <td>8.0500</td>\n",
       "      <td>0</td>\n",
       "    </tr>\n",
       "  </tbody>\n",
       "</table>\n",
       "</div>"
      ],
      "text/plain": [
       "                                                Name  Survived  Pclass  Sex  \\\n",
       "0                            Braund, Mr. Owen Harris         0       3    0   \n",
       "1  Cumings, Mrs. John Bradley (Florence Briggs Th...         1       1    1   \n",
       "2                             Heikkinen, Miss. Laina         1       3    1   \n",
       "3       Futrelle, Mrs. Jacques Heath (Lily May Peel)         1       1    1   \n",
       "4                           Allen, Mr. William Henry         0       3    0   \n",
       "\n",
       "    Age  SibSp  Parch     Fare  Embarked  \n",
       "0  22.0      1      0   7.2500         0  \n",
       "1  38.0      1      0  71.2833         1  \n",
       "2  26.0      0      0   7.9250         0  \n",
       "3  35.0      1      0  53.1000         0  \n",
       "4  35.0      0      0   8.0500         0  "
      ]
     },
     "execution_count": 2,
     "metadata": {},
     "output_type": "execute_result"
    }
   ],
   "source": [
    "# Cargamos el dataset y mostramos las primeras filas\n",
    "db=pd.read_csv(\"train_clean_0.csv\")\n",
    "db.head()"
   ]
  },
  {
   "cell_type": "markdown",
   "metadata": {
    "collapsed": false
   },
   "source": [
    "## Definición de variable (recordatorio)\n",
    "- Survived (si sobrevive el pasajero) = 0: Sobrevive, 1: No Sobrevive\n",
    "- Pclass (la clase en la que se encontraba el pasajero ) = 1: 1a clase, 2: 2a clase, 3: 3a clase\n",
    "- Sex (indica el sexo)= 0: masculino, 1: femenino\n",
    "- Age (edad)\n",
    "- SibSp (indica el número de hermanos, hermanastros, esposo/a que se encontraban a bordo)\n",
    "- Parch (número total de padres e hijos a bordo)\n",
    "- Fare (indica la tarifa/precio del ticket)\n",
    "- Embarked (Indica desde donde zarpo el pasajero) = 0:Southampton ,1:Cherbourg, 2:Queenstown"
   ]
  },
  {
   "cell_type": "code",
   "execution_count": 3,
   "metadata": {
    "ExecuteTime": {
     "end_time": "2023-05-08T10:07:11.628012Z",
     "start_time": "2023-05-08T10:07:11.446154Z"
    },
    "collapsed": false
   },
   "outputs": [
    {
     "data": {
      "text/html": [
       "<div>\n",
       "<style scoped>\n",
       "    .dataframe tbody tr th:only-of-type {\n",
       "        vertical-align: middle;\n",
       "    }\n",
       "\n",
       "    .dataframe tbody tr th {\n",
       "        vertical-align: top;\n",
       "    }\n",
       "\n",
       "    .dataframe thead th {\n",
       "        text-align: right;\n",
       "    }\n",
       "</style>\n",
       "<table border=\"1\" class=\"dataframe\">\n",
       "  <thead>\n",
       "    <tr style=\"text-align: right;\">\n",
       "      <th></th>\n",
       "      <th>Survived</th>\n",
       "      <th>Pclass</th>\n",
       "      <th>Sex</th>\n",
       "      <th>Age</th>\n",
       "      <th>SibSp</th>\n",
       "      <th>Parch</th>\n",
       "      <th>Fare</th>\n",
       "      <th>Embarked</th>\n",
       "    </tr>\n",
       "  </thead>\n",
       "  <tbody>\n",
       "    <tr>\n",
       "      <th>count</th>\n",
       "      <td>714.000000</td>\n",
       "      <td>714.000000</td>\n",
       "      <td>714.000000</td>\n",
       "      <td>714.000000</td>\n",
       "      <td>714.000000</td>\n",
       "      <td>714.000000</td>\n",
       "      <td>714.000000</td>\n",
       "      <td>714.000000</td>\n",
       "    </tr>\n",
       "    <tr>\n",
       "      <th>mean</th>\n",
       "      <td>0.406162</td>\n",
       "      <td>2.236695</td>\n",
       "      <td>0.365546</td>\n",
       "      <td>29.699118</td>\n",
       "      <td>0.512605</td>\n",
       "      <td>0.431373</td>\n",
       "      <td>34.694514</td>\n",
       "      <td>0.260504</td>\n",
       "    </tr>\n",
       "    <tr>\n",
       "      <th>std</th>\n",
       "      <td>0.491460</td>\n",
       "      <td>0.838250</td>\n",
       "      <td>0.481921</td>\n",
       "      <td>14.526497</td>\n",
       "      <td>0.929783</td>\n",
       "      <td>0.853289</td>\n",
       "      <td>52.918930</td>\n",
       "      <td>0.521012</td>\n",
       "    </tr>\n",
       "    <tr>\n",
       "      <th>min</th>\n",
       "      <td>0.000000</td>\n",
       "      <td>1.000000</td>\n",
       "      <td>0.000000</td>\n",
       "      <td>0.420000</td>\n",
       "      <td>0.000000</td>\n",
       "      <td>0.000000</td>\n",
       "      <td>0.000000</td>\n",
       "      <td>0.000000</td>\n",
       "    </tr>\n",
       "    <tr>\n",
       "      <th>25%</th>\n",
       "      <td>0.000000</td>\n",
       "      <td>1.000000</td>\n",
       "      <td>0.000000</td>\n",
       "      <td>20.125000</td>\n",
       "      <td>0.000000</td>\n",
       "      <td>0.000000</td>\n",
       "      <td>8.050000</td>\n",
       "      <td>0.000000</td>\n",
       "    </tr>\n",
       "    <tr>\n",
       "      <th>50%</th>\n",
       "      <td>0.000000</td>\n",
       "      <td>2.000000</td>\n",
       "      <td>0.000000</td>\n",
       "      <td>28.000000</td>\n",
       "      <td>0.000000</td>\n",
       "      <td>0.000000</td>\n",
       "      <td>15.741700</td>\n",
       "      <td>0.000000</td>\n",
       "    </tr>\n",
       "    <tr>\n",
       "      <th>75%</th>\n",
       "      <td>1.000000</td>\n",
       "      <td>3.000000</td>\n",
       "      <td>1.000000</td>\n",
       "      <td>38.000000</td>\n",
       "      <td>1.000000</td>\n",
       "      <td>1.000000</td>\n",
       "      <td>33.375000</td>\n",
       "      <td>0.000000</td>\n",
       "    </tr>\n",
       "    <tr>\n",
       "      <th>max</th>\n",
       "      <td>1.000000</td>\n",
       "      <td>3.000000</td>\n",
       "      <td>1.000000</td>\n",
       "      <td>80.000000</td>\n",
       "      <td>5.000000</td>\n",
       "      <td>6.000000</td>\n",
       "      <td>512.329200</td>\n",
       "      <td>2.000000</td>\n",
       "    </tr>\n",
       "  </tbody>\n",
       "</table>\n",
       "</div>"
      ],
      "text/plain": [
       "         Survived      Pclass         Sex         Age       SibSp       Parch  \\\n",
       "count  714.000000  714.000000  714.000000  714.000000  714.000000  714.000000   \n",
       "mean     0.406162    2.236695    0.365546   29.699118    0.512605    0.431373   \n",
       "std      0.491460    0.838250    0.481921   14.526497    0.929783    0.853289   \n",
       "min      0.000000    1.000000    0.000000    0.420000    0.000000    0.000000   \n",
       "25%      0.000000    1.000000    0.000000   20.125000    0.000000    0.000000   \n",
       "50%      0.000000    2.000000    0.000000   28.000000    0.000000    0.000000   \n",
       "75%      1.000000    3.000000    1.000000   38.000000    1.000000    1.000000   \n",
       "max      1.000000    3.000000    1.000000   80.000000    5.000000    6.000000   \n",
       "\n",
       "             Fare    Embarked  \n",
       "count  714.000000  714.000000  \n",
       "mean    34.694514    0.260504  \n",
       "std     52.918930    0.521012  \n",
       "min      0.000000    0.000000  \n",
       "25%      8.050000    0.000000  \n",
       "50%     15.741700    0.000000  \n",
       "75%     33.375000    0.000000  \n",
       "max    512.329200    2.000000  "
      ]
     },
     "execution_count": 3,
     "metadata": {},
     "output_type": "execute_result"
    }
   ],
   "source": [
    "db.describe()"
   ]
  },
  {
   "attachments": {},
   "cell_type": "markdown",
   "metadata": {},
   "source": [
    "## Preprocesamiento del Test Dataset"
   ]
  },
  {
   "cell_type": "code",
   "execution_count": 4,
   "metadata": {},
   "outputs": [
    {
     "data": {
      "text/html": [
       "<div>\n",
       "<style scoped>\n",
       "    .dataframe tbody tr th:only-of-type {\n",
       "        vertical-align: middle;\n",
       "    }\n",
       "\n",
       "    .dataframe tbody tr th {\n",
       "        vertical-align: top;\n",
       "    }\n",
       "\n",
       "    .dataframe thead th {\n",
       "        text-align: right;\n",
       "    }\n",
       "</style>\n",
       "<table border=\"1\" class=\"dataframe\">\n",
       "  <thead>\n",
       "    <tr style=\"text-align: right;\">\n",
       "      <th></th>\n",
       "      <th>Unnamed: 0</th>\n",
       "      <th>PassengerId</th>\n",
       "      <th>Pclass</th>\n",
       "      <th>Name</th>\n",
       "      <th>Sex</th>\n",
       "      <th>Age</th>\n",
       "      <th>SibSp</th>\n",
       "      <th>Parch</th>\n",
       "      <th>Ticket</th>\n",
       "      <th>Fare</th>\n",
       "      <th>Cabin</th>\n",
       "      <th>Embarked</th>\n",
       "    </tr>\n",
       "  </thead>\n",
       "  <tbody>\n",
       "    <tr>\n",
       "      <th>0</th>\n",
       "      <td>0</td>\n",
       "      <td>892</td>\n",
       "      <td>3</td>\n",
       "      <td>Abelseth, Mr. Olaus Jorgensen</td>\n",
       "      <td>male</td>\n",
       "      <td>25.0</td>\n",
       "      <td>0</td>\n",
       "      <td>0</td>\n",
       "      <td>348122</td>\n",
       "      <td>7.6500</td>\n",
       "      <td>F G63</td>\n",
       "      <td>S</td>\n",
       "    </tr>\n",
       "    <tr>\n",
       "      <th>1</th>\n",
       "      <td>1</td>\n",
       "      <td>893</td>\n",
       "      <td>3</td>\n",
       "      <td>Abrahim, Mrs. Joseph (Sophie Halaut Easu)</td>\n",
       "      <td>female</td>\n",
       "      <td>18.0</td>\n",
       "      <td>0</td>\n",
       "      <td>0</td>\n",
       "      <td>2657</td>\n",
       "      <td>7.2292</td>\n",
       "      <td>NaN</td>\n",
       "      <td>C</td>\n",
       "    </tr>\n",
       "    <tr>\n",
       "      <th>2</th>\n",
       "      <td>2</td>\n",
       "      <td>894</td>\n",
       "      <td>2</td>\n",
       "      <td>Aldworth, Mr. Charles Augustus</td>\n",
       "      <td>male</td>\n",
       "      <td>30.0</td>\n",
       "      <td>0</td>\n",
       "      <td>0</td>\n",
       "      <td>248744</td>\n",
       "      <td>13.0000</td>\n",
       "      <td>NaN</td>\n",
       "      <td>S</td>\n",
       "    </tr>\n",
       "    <tr>\n",
       "      <th>3</th>\n",
       "      <td>3</td>\n",
       "      <td>895</td>\n",
       "      <td>2</td>\n",
       "      <td>Andrew, Mr. Frank Thomas</td>\n",
       "      <td>male</td>\n",
       "      <td>25.0</td>\n",
       "      <td>0</td>\n",
       "      <td>0</td>\n",
       "      <td>C.A. 34050</td>\n",
       "      <td>10.5000</td>\n",
       "      <td>NaN</td>\n",
       "      <td>S</td>\n",
       "    </tr>\n",
       "    <tr>\n",
       "      <th>4</th>\n",
       "      <td>4</td>\n",
       "      <td>896</td>\n",
       "      <td>2</td>\n",
       "      <td>Angle, Mr. William A</td>\n",
       "      <td>male</td>\n",
       "      <td>34.0</td>\n",
       "      <td>1</td>\n",
       "      <td>0</td>\n",
       "      <td>226875</td>\n",
       "      <td>26.0000</td>\n",
       "      <td>NaN</td>\n",
       "      <td>S</td>\n",
       "    </tr>\n",
       "  </tbody>\n",
       "</table>\n",
       "</div>"
      ],
      "text/plain": [
       "   Unnamed: 0  PassengerId  Pclass                                       Name  \\\n",
       "0           0          892       3              Abelseth, Mr. Olaus Jorgensen   \n",
       "1           1          893       3  Abrahim, Mrs. Joseph (Sophie Halaut Easu)   \n",
       "2           2          894       2             Aldworth, Mr. Charles Augustus   \n",
       "3           3          895       2                   Andrew, Mr. Frank Thomas   \n",
       "4           4          896       2                       Angle, Mr. William A   \n",
       "\n",
       "      Sex   Age  SibSp  Parch      Ticket     Fare  Cabin Embarked  \n",
       "0    male  25.0      0      0      348122   7.6500  F G63        S  \n",
       "1  female  18.0      0      0        2657   7.2292    NaN        C  \n",
       "2    male  30.0      0      0      248744  13.0000    NaN        S  \n",
       "3    male  25.0      0      0  C.A. 34050  10.5000    NaN        S  \n",
       "4    male  34.0      1      0      226875  26.0000    NaN        S  "
      ]
     },
     "execution_count": 4,
     "metadata": {},
     "output_type": "execute_result"
    }
   ],
   "source": [
    "# Cargamos el dataset de test y mostramos las primeras filas\n",
    "ExerciseTest=pd.read_csv(\"test.csv\")\n",
    "db_test = ExerciseTest.copy()\n",
    "db_test.head()"
   ]
  },
  {
   "cell_type": "code",
   "execution_count": 5,
   "metadata": {},
   "outputs": [],
   "source": [
    "# Eliminamos las columnas PassengerId, Ticket, Unnamed y Cabin\n",
    "db_test.drop(['PassengerId','Ticket','Unnamed: 0','Cabin'],axis=1,inplace=True)\n",
    "\n",
    "# Mapeamos las columnas Embarked y Sex\n",
    "db_test[\"Embarked\"] = db_test[\"Embarked\"].map({\"S\": 0, \"C\": 1, \"Q\": 2})\n",
    "db_test[\"Sex\"] = db_test[\"Sex\"].map({\"male\": 0, \"female\": 1})"
   ]
  },
  {
   "cell_type": "code",
   "execution_count": 6,
   "metadata": {},
   "outputs": [
    {
     "name": "stdout",
     "output_type": "stream",
     "text": [
      "Pclass : 0.0 %\n",
      "Name : 0.0 %\n",
      "Sex : 0.0 %\n",
      "Age : 20.095693779904305 %\n",
      "SibSp : 0.0 %\n",
      "Parch : 0.0 %\n",
      "Fare : 0.4784688995215311 %\n",
      "Embarked : 0.0 %\n"
     ]
    }
   ],
   "source": [
    "# Calcular % de datos nulos por columna\n",
    "for col in db_test.columns:\n",
    "    print(col,\":\",db_test[col].isnull().sum()/db_test.shape[0]*100,\"%\")"
   ]
  },
  {
   "attachments": {},
   "cell_type": "markdown",
   "metadata": {},
   "source": [
    "### Procesamiento de los datos nulos\n",
    "#### Procesamiento de los datos nulos de la columna \"Fare\""
   ]
  },
  {
   "cell_type": "code",
   "execution_count": 7,
   "metadata": {},
   "outputs": [
    {
     "data": {
      "text/html": [
       "<div>\n",
       "<style scoped>\n",
       "    .dataframe tbody tr th:only-of-type {\n",
       "        vertical-align: middle;\n",
       "    }\n",
       "\n",
       "    .dataframe tbody tr th {\n",
       "        vertical-align: top;\n",
       "    }\n",
       "\n",
       "    .dataframe thead th {\n",
       "        text-align: right;\n",
       "    }\n",
       "</style>\n",
       "<table border=\"1\" class=\"dataframe\">\n",
       "  <thead>\n",
       "    <tr style=\"text-align: right;\">\n",
       "      <th></th>\n",
       "      <th>Pclass</th>\n",
       "      <th>Name</th>\n",
       "      <th>Sex</th>\n",
       "      <th>Age</th>\n",
       "      <th>SibSp</th>\n",
       "      <th>Parch</th>\n",
       "      <th>Fare</th>\n",
       "      <th>Embarked</th>\n",
       "    </tr>\n",
       "  </thead>\n",
       "  <tbody>\n",
       "    <tr>\n",
       "      <th>184</th>\n",
       "      <td>3</td>\n",
       "      <td>Storey, Mr. Thomas</td>\n",
       "      <td>0</td>\n",
       "      <td>60.5</td>\n",
       "      <td>0</td>\n",
       "      <td>0</td>\n",
       "      <td>NaN</td>\n",
       "      <td>0</td>\n",
       "    </tr>\n",
       "  </tbody>\n",
       "</table>\n",
       "</div>"
      ],
      "text/plain": [
       "     Pclass                Name  Sex   Age  SibSp  Parch  Fare  Embarked\n",
       "184       3  Storey, Mr. Thomas    0  60.5      0      0   NaN         0"
      ]
     },
     "execution_count": 7,
     "metadata": {},
     "output_type": "execute_result"
    }
   ],
   "source": [
    "# Mostrar los valores nulos de la columna Fare\n",
    "db_test[db_test['Fare'].isnull()]"
   ]
  },
  {
   "attachments": {},
   "cell_type": "markdown",
   "metadata": {},
   "source": [
    "En el caso de la columna Fare solo hay un elemento nulo por lo que decidí investigar para ver si podía completar la información a mano. En este caso Storey, Mr. Thomas era parte de la tripulación por lo que el Fare es 0.\n",
    "https://www.encyclopedia-titanica.org/titanic-victim/thomas-storey.html\n"
   ]
  },
  {
   "cell_type": "code",
   "execution_count": 8,
   "metadata": {},
   "outputs": [],
   "source": [
    "# Rellenamos el valor nulo con 0\n",
    "db_test['Fare'].fillna(0,inplace=True)"
   ]
  },
  {
   "attachments": {},
   "cell_type": "markdown",
   "metadata": {},
   "source": [
    "#### Procesamiento de los datos nulos de la columna \"Age\""
   ]
  },
  {
   "cell_type": "code",
   "execution_count": 9,
   "metadata": {},
   "outputs": [
    {
     "name": "stdout",
     "output_type": "stream",
     "text": [
      "Pclass      0\n",
      "Name        0\n",
      "Sex         0\n",
      "Age         0\n",
      "SibSp       0\n",
      "Parch       0\n",
      "Fare        0\n",
      "Embarked    0\n",
      "dtype: int64\n"
     ]
    }
   ],
   "source": [
    "# Crear un imputador utilizando la estrategia de la mediana\n",
    "imputer = SimpleImputer(strategy='median')\n",
    "\n",
    "# Imputar los valores nulos en la columna 'Age'\n",
    "db_test['Age'] = imputer.fit_transform(db_test[['Age']])\n",
    "\n",
    "# Verificar que los valores nulos han sido imputados\n",
    "print(db_test.isnull().sum())"
   ]
  },
  {
   "cell_type": "code",
   "execution_count": 10,
   "metadata": {},
   "outputs": [
    {
     "name": "stdout",
     "output_type": "stream",
     "text": [
      "Pclass : 0.0 %\n",
      "Name : 0.0 %\n",
      "Sex : 0.0 %\n",
      "Age : 0.0 %\n",
      "SibSp : 0.0 %\n",
      "Parch : 0.0 %\n",
      "Fare : 0.0 %\n",
      "Embarked : 0.0 %\n"
     ]
    }
   ],
   "source": [
    "# Calcular % de datos nulos por columna\n",
    "for col in db_test.columns:\n",
    "    print(col,\":\",db_test[col].isnull().sum()/db_test.shape[0]*100,\"%\")"
   ]
  },
  {
   "attachments": {},
   "cell_type": "markdown",
   "metadata": {
    "collapsed": false
   },
   "source": [
    "## KNN\n",
    "El método KNN clasifica datos en función de su similitud con los datos de entrenamiento existentes. La \"k\" en KNN especifica el nuñemero de vecinos más cercanos que se toman en cuenta para hacer la predicción.\n",
    "### Preparamos datos"
   ]
  },
  {
   "cell_type": "code",
   "execution_count": 11,
   "metadata": {},
   "outputs": [],
   "source": [
    "# Eliminamos la columna Name, que no nos aporta información relevante\n",
    "db.drop('Name',axis=1,inplace=True)\n",
    "db_test.drop('Name',axis=1,inplace=True)"
   ]
  },
  {
   "cell_type": "code",
   "execution_count": 12,
   "metadata": {
    "ExecuteTime": {
     "end_time": "2023-05-08T10:07:11.630484Z",
     "start_time": "2023-05-08T10:07:11.560475Z"
    },
    "collapsed": false
   },
   "outputs": [],
   "source": [
    "X = db.drop('Survived',axis=1) # Todas las columnas menos Survived, que es la que queremos predecir\n",
    "Y = db['Survived'] # La columna que queremos predecir\n",
    "\n",
    "X_train, X_test, Y_train, Y_test = train_test_split(X, Y, random_state=0)\n",
    "scaler = MinMaxScaler()\n",
    "X_train = scaler.fit_transform(X_train)\n",
    "X_test = scaler.transform(X_test)"
   ]
  },
  {
   "cell_type": "markdown",
   "metadata": {
    "collapsed": false
   },
   "source": [
    "### Seleccionamos el valor de k\n",
    "Analizo como se comporta el modelo con diferentes valores de k, y los represento en una gráfica para ver cual es el valor de k que mejor resultado nos da."
   ]
  },
  {
   "cell_type": "code",
   "execution_count": 13,
   "metadata": {
    "ExecuteTime": {
     "end_time": "2023-05-08T10:07:12.728645Z",
     "start_time": "2023-05-08T10:07:11.594352Z"
    },
    "collapsed": false,
    "pycharm": {
     "is_executing": true
    }
   },
   "outputs": [
    {
     "data": {
      "text/plain": [
       "([<matplotlib.axis.XTick at 0x27fa1076c80>,\n",
       "  <matplotlib.axis.XTick at 0x27fa1076c50>,\n",
       "  <matplotlib.axis.XTick at 0x27fa1076890>,\n",
       "  <matplotlib.axis.XTick at 0x27fa10c7370>,\n",
       "  <matplotlib.axis.XTick at 0x27fa10c6fe0>],\n",
       " [Text(0, 0, '0'),\n",
       "  Text(5, 0, '5'),\n",
       "  Text(10, 0, '10'),\n",
       "  Text(15, 0, '15'),\n",
       "  Text(20, 0, '20')])"
      ]
     },
     "execution_count": 13,
     "metadata": {},
     "output_type": "execute_result"
    },
    {
     "data": {
      "image/png": "[encoded data removed]",
      "text/plain": [
       "<Figure size 640x480 with 1 Axes>"
      ]
     },
     "metadata": {},
     "output_type": "display_data"
    }
   ],
   "source": [
    "# Probamos con diferentes valores de k\n",
    "k_range = range(1, 20)\n",
    "scores = []\n",
    "for k in k_range:\n",
    "      knn = KNeighborsClassifier(n_neighbors = k)\n",
    "      knn.fit(X_train, Y_train)\n",
    "      scores.append(knn.score(X_test, Y_test))\n",
    "\n",
    "# Los representamos en una gráfica\n",
    "plt.figure()\n",
    "plt.xlabel('k')\n",
    "plt.ylabel('accuracy')\n",
    "plt.scatter(k_range, scores)\n",
    "plt.xticks([0,5,10,15,20])"
   ]
  },
  {
   "attachments": {},
   "cell_type": "markdown",
   "metadata": {
    "collapsed": false
   },
   "source": [
    "### Entrenamos el modelo con el valor de k que mejor resultado nos ha dado\n",
    "Como se ve representado en la gráfica, el valor más alto de precisión del test set se obtiene con k=11, por lo que entreno el modelo con este valor de k."
   ]
  },
  {
   "cell_type": "code",
   "execution_count": 14,
   "metadata": {
    "ExecuteTime": {
     "end_time": "2023-05-08T10:07:12.833982Z",
     "start_time": "2023-05-08T10:07:12.735494Z"
    },
    "collapsed": false
   },
   "outputs": [
    {
     "name": "stdout",
     "output_type": "stream",
     "text": [
      "Precisión del modelo en el set de entrenamiento: 0.83\n",
      "Precisión del modelo en el set de prueba: 0.81\n"
     ]
    }
   ],
   "source": [
    "n_neighbors = 11\n",
    "\n",
    "# Creamos el modelo\n",
    "knn = KNeighborsClassifier(n_neighbors)\n",
    "# Lo entrenamos\n",
    "knn.fit(X_train, Y_train)\n",
    "\n",
    "# Imprimimos la precisión del modelo\n",
    "print('Precisión del modelo en el set de entrenamiento: {:.2f}'\n",
    "      .format(knn.score(X_train, Y_train)))\n",
    "print('Precisión del modelo en el set de prueba: {:.2f}'\n",
    "      .format(knn.score(X_test, Y_test)))"
   ]
  },
  {
   "cell_type": "code",
   "execution_count": 15,
   "metadata": {},
   "outputs": [
    {
     "name": "stdout",
     "output_type": "stream",
     "text": [
      "Your submission was successfully saved!\n"
     ]
    },
    {
     "name": "stderr",
     "output_type": "stream",
     "text": [
      "c:\\Users\\Luis\\AppData\\Local\\Programs\\Python\\Python310\\lib\\site-packages\\sklearn\\base.py:443: UserWarning: X has feature names, but KNeighborsClassifier was fitted without feature names\n",
      "  warnings.warn(\n"
     ]
    }
   ],
   "source": [
    "predictSurvive = knn.predict(db_test)\n",
    "\n",
    "output = pd.DataFrame({'PassengerId': ExerciseTest.PassengerId, 'Survived': predictSurvive })\n",
    "output.to_csv('test_kaggle.csv', index=False)\n",
    "print(\"Your submission was successfully saved!\")"
   ]
  }
 ],
 "metadata": {
  "kernelspec": {
   "display_name": "Python 3",
   "language": "python",
   "name": "python3"
  },
  "language_info": {
   "codemirror_mode": {
    "name": "ipython",
    "version": 3
   },
   "file_extension": ".py",
   "mimetype": "text/x-python",
   "name": "python",
   "nbconvert_exporter": "python",
   "pygments_lexer": "ipython3",
   "version": "3.10.2"
  }
 },
 "nbformat": 4,
 "nbformat_minor": 0
}
