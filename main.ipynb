{
 "cells": [
  {
   "cell_type": "code",
   "execution_count": 30,
   "metadata": {
    "ExecuteTime": {
     "start_time": "2023-05-18T15:25:29.715614Z",
     "end_time": "2023-05-18T15:25:30.041096Z"
    },
    "collapsed": true
   },
   "outputs": [],
   "source": [
    "# Importamos las librerias necesarias\n",
    "import pandas as pd\n",
    "import numpy as np\n",
    "\n",
    "from sklearn.experimental import enable_iterative_imputer\n",
    "from sklearn.impute import IterativeImputer\n",
    "from sklearn.linear_model import LinearRegression\n",
    "\n",
    "from matplotlib import pyplot as plt\n",
    "from sklearn.model_selection import train_test_split\n",
    "from sklearn.neighbors import KNeighborsClassifier\n",
    "from sklearn.preprocessing import MinMaxScaler\n",
    "\n",
    "from sklearn.naive_bayes import MultinomialNB\n",
    "from sklearn.model_selection import train_test_split\n",
    "from sklearn.metrics import accuracy_score\n"
   ]
  },
  {
   "cell_type": "markdown",
   "metadata": {
    "collapsed": false
   },
   "source": [
    "## Carga de datos\n",
    "En la práctica 4 ya realicé la limpieza de datos, por lo que en esta práctica cargaremos el dataset limpio. En la [práctica 4](https://github.com/Luisruimor/practica4_IA) hice dos posibles tratamientos de los valores nulos de la columna \"age\":\n",
    "\n",
    "1. Eliminar las filas con valores nulos\n",
    "2. Imputar los valores mediante el método MICE\n",
    "\n",
    "En esta práctica vamos a trabajar con el dataset en el que eliminé las columnas con valores nulos, ya que en el método MICE se utiliza la variable que queremos predecir como parte del método de imputación."
   ]
  },
  {
   "cell_type": "code",
   "execution_count": 31,
   "metadata": {
    "ExecuteTime": {
     "start_time": "2023-05-18T15:25:29.732905Z",
     "end_time": "2023-05-18T15:25:30.121381Z"
    },
    "collapsed": false
   },
   "outputs": [],
   "source": [
    "# Cargamos el dataset y mostramos las primeras filas\n",
    "db=pd.read_csv(\"train_clean_0.csv\")\n",
    "db.head()"
   ]
  },
  {
   "cell_type": "markdown",
   "metadata": {
    "collapsed": false
   },
   "source": [
    "## Definición de variable (recordatorio)\n",
    "- Survived (si sobrevive el pasajero) = 0: Sobrevive, 1: No Sobrevive\n",
    "- Pclass (la clase en la que se encontraba el pasajero ) = 1: 1a clase, 2: 2a clase, 3: 3a clase\n",
    "- Sex (indica el sexo)= 0: masculino, 1: femenino\n",
    "- Age (edad)\n",
    "- SibSp (indica el número de hermanos, hermanastros, esposo/a que se encontraban a bordo)\n",
    "- Parch (número total de padres e hijos a bordo)\n",
    "- Fare (indica la tarifa/precio del ticket)\n",
    "- Embarked (Indica desde donde zarpo el pasajero) = 0:Southampton ,1:Cherbourg, 2:Queenstown"
   ]
  },
  {
   "cell_type": "code",
   "execution_count": 32,
   "metadata": {
    "ExecuteTime": {
     "start_time": "2023-05-18T15:25:29.752608Z",
     "end_time": "2023-05-18T15:25:30.255282Z"
    },
    "collapsed": false
   },
   "outputs": [],
   "source": [
    "db.describe()"
   ]
  },
  {
   "attachments": {},
   "cell_type": "markdown",
   "metadata": {},
   "source": [
    "## Preprocesamiento del Test Dataset"
   ]
  },
  {
   "cell_type": "code",
   "execution_count": 33,
   "metadata": {
    "ExecuteTime": {
     "start_time": "2023-05-18T15:25:29.777898Z",
     "end_time": "2023-05-18T15:25:30.256945Z"
    }
   },
   "outputs": [],
   "source": [
    "# Cargamos el dataset de test y mostramos las primeras filas\n",
    "ExerciseTest=pd.read_csv(\"test.csv\")\n",
    "db_test = ExerciseTest.copy()\n",
    "db_test.head()"
   ]
  },
  {
   "cell_type": "code",
   "execution_count": 34,
   "metadata": {
    "ExecuteTime": {
     "start_time": "2023-05-18T15:25:29.778124Z",
     "end_time": "2023-05-18T15:25:30.280247Z"
    }
   },
   "outputs": [],
   "source": [
    "# Eliminamos las columnas PassengerId, Ticket, Unnamed y Cabin\n",
    "db_test.drop(['PassengerId','Ticket','Unnamed: 0','Cabin'],axis=1,inplace=True)\n",
    "\n",
    "# Mapeamos las columnas Embarked y Sex\n",
    "db_test[\"Embarked\"] = db_test[\"Embarked\"].map({\"S\": 0, \"C\": 1, \"Q\": 2})\n",
    "db_test[\"Sex\"] = db_test[\"Sex\"].map({\"male\": 0, \"female\": 1})"
   ]
  },
  {
   "cell_type": "code",
   "execution_count": 35,
   "metadata": {
    "ExecuteTime": {
     "start_time": "2023-05-18T15:25:29.778220Z",
     "end_time": "2023-05-18T15:25:30.280846Z"
    }
   },
   "outputs": [],
   "source": [
    "# Calcular % de datos nulos por columna\n",
    "for col in db_test.columns:\n",
    "    print(col,\":\",db_test[col].isnull().sum()/db_test.shape[0]*100,\"%\")"
   ]
  },
  {
   "cell_type": "code",
   "execution_count": 36,
   "outputs": [],
   "source": [
    "# Eliminamos la columna Name, que no nos aporta información relevante\n",
    "db.drop('Name',axis=1,inplace=True)\n",
    "db_test.drop('Name',axis=1,inplace=True)"
   ],
   "metadata": {
    "collapsed": false,
    "ExecuteTime": {
     "start_time": "2023-05-18T15:25:29.778299Z",
     "end_time": "2023-05-18T15:25:30.282357Z"
    }
   }
  },
  {
   "cell_type": "markdown",
   "source": [
    "### Procesamiento de los datos nulos\n",
    "#### Procesamiento de los datos nulos de la columna \"Fare\""
   ],
   "metadata": {
    "collapsed": false
   }
  },
  {
   "cell_type": "code",
   "execution_count": 37,
   "outputs": [],
   "source": [
    "# Mostrar los valores nulos de la columna Fare\n",
    "db_test[db_test['Fare'].isnull()]"
   ],
   "metadata": {
    "collapsed": false,
    "ExecuteTime": {
     "start_time": "2023-05-18T15:25:29.804075Z",
     "end_time": "2023-05-18T15:25:30.329462Z"
    }
   }
  },
  {
   "cell_type": "markdown",
   "source": [
    "En el caso de la columna Fare solo hay un elemento nulo por lo que decidí investigar para ver si podía completar la información a mano. En este caso Storey, Mr. Thomas era parte de la tripulación por lo que el Fare es 0.\n",
    "https://www.encyclopedia-titanica.org/titanic-victim/thomas-storey.html\n"
   ],
   "metadata": {
    "collapsed": false
   }
  },
  {
   "cell_type": "code",
   "execution_count": 38,
   "outputs": [],
   "source": [
    "# Rellenamos el valor nulo con 0\n",
    "db_test['Fare'].fillna(0,inplace=True)"
   ],
   "metadata": {
    "collapsed": false,
    "ExecuteTime": {
     "start_time": "2023-05-18T15:25:29.817010Z",
     "end_time": "2023-05-18T15:25:30.330070Z"
    }
   }
  },
  {
   "cell_type": "markdown",
   "source": [
    "#### Procesamiento de los datos nulos de la columna \"Age\""
   ],
   "metadata": {
    "collapsed": false
   }
  },
  {
   "cell_type": "code",
   "execution_count": 39,
   "metadata": {
    "ExecuteTime": {
     "start_time": "2023-05-18T15:25:29.828892Z",
     "end_time": "2023-05-18T15:25:30.330455Z"
    }
   },
   "outputs": [],
   "source": [
    "# Calcular % de datos nulos por columna\n",
    "for col in db_test.columns:\n",
    "    print(col,\":\",db_test[col].isnull().sum()/db_test.shape[0]*100,\"%\")"
   ]
  },
  {
   "attachments": {},
   "cell_type": "markdown",
   "metadata": {
    "collapsed": false
   },
   "source": [
    "## KNN\n",
    "El método KNN clasifica datos en función de su similitud con los datos de entrenamiento existentes. La \"k\" en KNN especifica el nuñemero de vecinos más cercanos que se toman en cuenta para hacer la predicción.\n",
    "### Preparamos datos"
   ]
  },
  {
   "cell_type": "code",
   "execution_count": 40,
   "metadata": {
    "ExecuteTime": {
     "start_time": "2023-05-18T15:25:29.860608Z",
     "end_time": "2023-05-18T15:25:30.331912Z"
    },
    "collapsed": false
   },
   "outputs": [],
   "source": [
    "X = db.drop('Survived',axis=1) # Todas las columnas menos Survived, que es la que queremos predecir\n",
    "Y = db['Survived'] # La columna que queremos predecir\n",
    "\n",
    "X_train, X_test, Y_train, Y_test = train_test_split(X, Y, random_state=0)\n",
    "scaler = MinMaxScaler()\n",
    "X_train = scaler.fit_transform(X_train)\n",
    "X_test = scaler.transform(X_test)"
   ]
  },
  {
   "cell_type": "markdown",
   "metadata": {
    "collapsed": false
   },
   "source": [
    "### Seleccionamos el valor de k\n",
    "Analizo como se comporta el modelo con diferentes valores de k, y los represento en una gráfica para ver cual es el valor de k que mejor resultado nos da."
   ]
  },
  {
   "cell_type": "code",
   "execution_count": 41,
   "metadata": {
    "ExecuteTime": {
     "start_time": "2023-05-18T15:25:29.877299Z",
     "end_time": "2023-05-18T15:25:31.317352Z"
    },
    "collapsed": false
   },
   "outputs": [],
   "source": [
    "# Probamos con diferentes valores de k\n",
    "k_range = range(1, 20)\n",
    "scores = []\n",
    "for k in k_range:\n",
    "      knn = KNeighborsClassifier(n_neighbors = k)\n",
    "      knn.fit(X_train, Y_train)\n",
    "      scores.append(knn.score(X_test, Y_test))\n",
    "\n",
    "# Los representamos en una gráfica\n",
    "plt.figure()\n",
    "plt.xlabel('k')\n",
    "plt.ylabel('accuracy')\n",
    "plt.scatter(k_range, scores)\n",
    "plt.xticks([0,5,10,15,20])"
   ]
  },
  {
   "attachments": {},
   "cell_type": "markdown",
   "metadata": {
    "collapsed": false
   },
   "source": [
    "### Entrenamos el modelo con el valor de k que mejor resultado nos ha dado\n",
    "Como se ve representado en la gráfica, el valor más alto de precisión del test set se obtiene con k=11, por lo que entreno el modelo con este valor de k."
   ]
  },
  {
   "cell_type": "code",
   "execution_count": 42,
   "metadata": {
    "ExecuteTime": {
     "start_time": "2023-05-18T15:25:29.893917Z",
     "end_time": "2023-05-18T15:25:31.393175Z"
    },
    "collapsed": false
   },
   "outputs": [],
   "source": [
    "n_neighbors = 11\n",
    "\n",
    "# Creamos el modelo\n",
    "knn = KNeighborsClassifier(n_neighbors)\n",
    "# Lo entrenamos\n",
    "knn.fit(X_train, Y_train)\n",
    "\n",
    "# Imprimimos la precisión del modelo\n",
    "print('Precisión del modelo en el set de entrenamiento: {:.2f}'\n",
    "      .format(knn.score(X_train, Y_train)))\n",
    "print('Precisión del modelo en el set de prueba: {:.2f}'\n",
    "      .format(knn.score(X_test, Y_test)))"
   ]
  },
  {
   "cell_type": "code",
   "execution_count": 43,
   "metadata": {},
   "outputs": [],
   "source": [
    "predictSurvive = knn.predict(db_test)\n",
    "\n",
    "output = pd.DataFrame({'PassengerId': ExerciseTest.PassengerId, 'Survived': predictSurvive })\n",
    "output.to_csv('test_kaggle_KNN.csv', index=False)\n",
    "print(\"Your submission was successfully saved!\")"
   ]
  },
  {
   "attachments": {},
   "cell_type": "markdown",
   "metadata": {},
   "source": [
    "## Naive Bayes"
   ]
  },
  {
   "cell_type": "code",
   "execution_count": null,
   "metadata": {},
   "outputs": [],
   "source": [
    "X = db.drop('Survived',axis=1) # Todas las columnas menos Survived, que es la que queremos predecir\n",
    "Y = db['Survived'] # La columna que queremos predecir\n",
    "\n",
    "# Dividir los datos en conjuntos de entrenamiento y prueba\n",
    "X_train, X_test, y_train, y_test = train_test_split(X, Y, test_size=0.2, random_state=42)\n",
    "\n",
    "# Crear una instancia del clasificador Naive Bayes (GaussianNB)\n",
    "clf = MultinomialNB()\n",
    "\n",
    "# Ajustar el clasificador a los datos de entrenamiento\n",
    "clf.fit(X_train, y_train)"
   ]
  },
  {
   "cell_type": "code",
   "execution_count": null,
   "metadata": {},
   "outputs": [],
   "source": [
    "# Realizar predicciones en los datos de prueba\n",
    "predictSurvive = clf.predict(db_test)\n",
    "output = pd.DataFrame({'PassengerId': ExerciseTest.PassengerId, 'Survived': predictSurvive })\n",
    "output.to_csv('test_kaggle_NB.csv', index=False)"
   ]
  }
 ],
 "metadata": {
  "kernelspec": {
   "display_name": "Python 3",
   "language": "python",
   "name": "python3"
  },
  "language_info": {
   "codemirror_mode": {
    "name": "ipython",
    "version": 3
   },
   "file_extension": ".py",
   "mimetype": "text/x-python",
   "name": "python",
   "nbconvert_exporter": "python",
   "pygments_lexer": "ipython3",
   "version": "3.10.2"
  }
 },
 "nbformat": 4,
 "nbformat_minor": 0
}
